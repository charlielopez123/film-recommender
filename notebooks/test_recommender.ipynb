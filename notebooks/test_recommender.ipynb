{
 "cells": [
  {
   "cell_type": "code",
   "execution_count": 1,
   "id": "015e6565",
   "metadata": {},
   "outputs": [],
   "source": [
    "%load_ext autoreload\n",
    "%autoreload 2"
   ]
  },
  {
   "cell_type": "markdown",
   "id": "77483efd",
   "metadata": {
    "vscode": {
     "languageId": "plaintext"
    }
   },
   "source": [
    "## Imports"
   ]
  },
  {
   "cell_type": "code",
   "execution_count": null,
   "id": "e030b50b",
   "metadata": {},
   "outputs": [],
   "source": [
    "import pandas as pd\n",
    "import numpy as np\n",
    "import pickle\n",
    "import joblib\n",
    "from envs.film_env import FilmRecEnv\n",
    "import random \n",
    "from config import settings\n",
    "\n"
   ]
  },
  {
   "cell_type": "markdown",
   "id": "78fee443",
   "metadata": {},
   "source": [
    "## Loading"
   ]
  },
  {
   "cell_type": "code",
   "execution_count": null,
   "id": "81f37928",
   "metadata": {},
   "outputs": [],
   "source": [
    "catalog_df = pd.read_pickle(\"data/catalog_df.pkl\")            # load your DataFrame\n",
    "with open(settings.aud_model_dir/\"rf_model.pkl\", \"rb\") as f:    # load your frozen viewership model\n",
    "    audience_model = pickle.load(f)\n",
    "q_model = joblib.load(\"models/q_model.joblib\")"
   ]
  },
  {
   "cell_type": "code",
   "execution_count": 4,
   "id": "89bbe70c",
   "metadata": {},
   "outputs": [],
   "source": [
    "env = FilmRecEnv(\n",
    "    catalog_df     = catalog_df,\n",
    "    audience_model = audience_model,\n",
    "    memory_size    = 5,\n",
    "    rec_list_size  = 5,\n",
    ")"
   ]
  },
  {
   "cell_type": "markdown",
   "id": "131426ae",
   "metadata": {},
   "source": [
    "## Context and Recommendation"
   ]
  },
  {
   "cell_type": "code",
   "execution_count": 5,
   "id": "833d0974",
   "metadata": {},
   "outputs": [],
   "source": [
    "context = {\n",
    "        \"day\": 'wed',\n",
    "        \"time\":   'night',\n",
    "        \"season\": 'Spring'\n",
    "    }"
   ]
  },
  {
   "cell_type": "code",
   "execution_count": 6,
   "id": "e43cbb86",
   "metadata": {},
   "outputs": [
    {
     "data": {
      "application/vnd.microsoft.datawrangler.viewer.v0+json": {
       "columns": [
        {
         "name": "index",
         "rawType": "int64",
         "type": "integer"
        },
        {
         "name": "title",
         "rawType": "object",
         "type": "string"
        },
        {
         "name": "BrdCstClassKey",
         "rawType": "object",
         "type": "string"
        },
        {
         "name": "adult",
         "rawType": "object",
         "type": "unknown"
        },
        {
         "name": "duration",
         "rawType": "float64",
         "type": "float"
        },
        {
         "name": "genres",
         "rawType": "object",
         "type": "unknown"
        },
        {
         "name": "original_language",
         "rawType": "object",
         "type": "string"
        },
        {
         "name": "popularity",
         "rawType": "float64",
         "type": "float"
        },
        {
         "name": "release_date",
         "rawType": "object",
         "type": "string"
        },
        {
         "name": "revenue",
         "rawType": "float64",
         "type": "float"
        },
        {
         "name": "tmdb_id",
         "rawType": "float64",
         "type": "float"
        },
        {
         "name": "vote_average",
         "rawType": "float64",
         "type": "float"
        },
        {
         "name": "missing_release_date",
         "rawType": "bool",
         "type": "boolean"
        },
        {
         "name": "missing_tmdb",
         "rawType": "bool",
         "type": "boolean"
        },
        {
         "name": "is_movie",
         "rawType": "bool",
         "type": "boolean"
        }
       ],
       "ref": "7837f060-0cf7-4410-931a-af5c61d45243",
       "rows": [
        [
         "150",
         "Le crime lui va si bien",
         "72",
         "False",
         "94.08333333333331",
         "[]",
         "unknown",
         "0.0",
         "1900-01-01",
         "0.0",
         null,
         "0.0",
         "True",
         "True",
         "True"
        ],
        [
         "347",
         "Quatre mariages et un coup de foudre",
         "72",
         "False",
         "87.93333333333334",
         "[]",
         "unknown",
         "0.0",
         "1900-01-01",
         "0.0",
         null,
         "0.0",
         "True",
         "True",
         "True"
        ],
        [
         "436",
         "Body Cam",
         "71",
         "False",
         "89.33333333333333",
         "[{'id': 99, 'name': 'Documentaire'}, {'id': 80, 'name': 'Crime'}]",
         "en",
         "0.1546",
         "1900-01-01",
         "0.0",
         "1013147.0",
         "0.0",
         "True",
         "False",
         "True"
        ],
        [
         "256",
         "Brillante, belle et brisée",
         "72",
         "False",
         "89.0",
         "[{'id': 10770, 'name': 'Téléfilm'}, {'id': 53, 'name': 'Thriller'}]",
         "en",
         "0.185",
         "2021-07-11",
         "0.0",
         "849937.0",
         "4.4",
         "True",
         "False",
         "True"
        ],
        [
         "748",
         "Le mystère de Noël",
         "71",
         "False",
         "71.95",
         "[]",
         "fr",
         "0.0",
         "1900-01-01",
         "0.0",
         "477678.0",
         "0.0",
         "True",
         "False",
         "True"
        ]
       ],
       "shape": {
        "columns": 14,
        "rows": 5
       }
      },
      "text/html": [
       "<div>\n",
       "<style scoped>\n",
       "    .dataframe tbody tr th:only-of-type {\n",
       "        vertical-align: middle;\n",
       "    }\n",
       "\n",
       "    .dataframe tbody tr th {\n",
       "        vertical-align: top;\n",
       "    }\n",
       "\n",
       "    .dataframe thead th {\n",
       "        text-align: right;\n",
       "    }\n",
       "</style>\n",
       "<table border=\"1\" class=\"dataframe\">\n",
       "  <thead>\n",
       "    <tr style=\"text-align: right;\">\n",
       "      <th></th>\n",
       "      <th>title</th>\n",
       "      <th>BrdCstClassKey</th>\n",
       "      <th>adult</th>\n",
       "      <th>duration</th>\n",
       "      <th>genres</th>\n",
       "      <th>original_language</th>\n",
       "      <th>popularity</th>\n",
       "      <th>release_date</th>\n",
       "      <th>revenue</th>\n",
       "      <th>tmdb_id</th>\n",
       "      <th>vote_average</th>\n",
       "      <th>missing_release_date</th>\n",
       "      <th>missing_tmdb</th>\n",
       "      <th>is_movie</th>\n",
       "    </tr>\n",
       "  </thead>\n",
       "  <tbody>\n",
       "    <tr>\n",
       "      <th>150</th>\n",
       "      <td>Le crime lui va si bien</td>\n",
       "      <td>72</td>\n",
       "      <td>False</td>\n",
       "      <td>94.083333</td>\n",
       "      <td>[]</td>\n",
       "      <td>unknown</td>\n",
       "      <td>0.0000</td>\n",
       "      <td>1900-01-01</td>\n",
       "      <td>0.0</td>\n",
       "      <td>NaN</td>\n",
       "      <td>0.0</td>\n",
       "      <td>True</td>\n",
       "      <td>True</td>\n",
       "      <td>True</td>\n",
       "    </tr>\n",
       "    <tr>\n",
       "      <th>347</th>\n",
       "      <td>Quatre mariages et un coup de foudre</td>\n",
       "      <td>72</td>\n",
       "      <td>False</td>\n",
       "      <td>87.933333</td>\n",
       "      <td>[]</td>\n",
       "      <td>unknown</td>\n",
       "      <td>0.0000</td>\n",
       "      <td>1900-01-01</td>\n",
       "      <td>0.0</td>\n",
       "      <td>NaN</td>\n",
       "      <td>0.0</td>\n",
       "      <td>True</td>\n",
       "      <td>True</td>\n",
       "      <td>True</td>\n",
       "    </tr>\n",
       "    <tr>\n",
       "      <th>436</th>\n",
       "      <td>Body Cam</td>\n",
       "      <td>71</td>\n",
       "      <td>False</td>\n",
       "      <td>89.333333</td>\n",
       "      <td>[{'id': 99, 'name': 'Documentaire'}, {'id': 80...</td>\n",
       "      <td>en</td>\n",
       "      <td>0.1546</td>\n",
       "      <td>1900-01-01</td>\n",
       "      <td>0.0</td>\n",
       "      <td>1013147.0</td>\n",
       "      <td>0.0</td>\n",
       "      <td>True</td>\n",
       "      <td>False</td>\n",
       "      <td>True</td>\n",
       "    </tr>\n",
       "    <tr>\n",
       "      <th>256</th>\n",
       "      <td>Brillante, belle et brisée</td>\n",
       "      <td>72</td>\n",
       "      <td>False</td>\n",
       "      <td>89.000000</td>\n",
       "      <td>[{'id': 10770, 'name': 'Téléfilm'}, {'id': 53,...</td>\n",
       "      <td>en</td>\n",
       "      <td>0.1850</td>\n",
       "      <td>2021-07-11</td>\n",
       "      <td>0.0</td>\n",
       "      <td>849937.0</td>\n",
       "      <td>4.4</td>\n",
       "      <td>True</td>\n",
       "      <td>False</td>\n",
       "      <td>True</td>\n",
       "    </tr>\n",
       "    <tr>\n",
       "      <th>748</th>\n",
       "      <td>Le mystère de Noël</td>\n",
       "      <td>71</td>\n",
       "      <td>False</td>\n",
       "      <td>71.950000</td>\n",
       "      <td>[]</td>\n",
       "      <td>fr</td>\n",
       "      <td>0.0000</td>\n",
       "      <td>1900-01-01</td>\n",
       "      <td>0.0</td>\n",
       "      <td>477678.0</td>\n",
       "      <td>0.0</td>\n",
       "      <td>True</td>\n",
       "      <td>False</td>\n",
       "      <td>True</td>\n",
       "    </tr>\n",
       "  </tbody>\n",
       "</table>\n",
       "</div>"
      ],
      "text/plain": [
       "                                    title BrdCstClassKey  adult   duration  \\\n",
       "150               Le crime lui va si bien             72  False  94.083333   \n",
       "347  Quatre mariages et un coup de foudre             72  False  87.933333   \n",
       "436                              Body Cam             71  False  89.333333   \n",
       "256            Brillante, belle et brisée             72  False  89.000000   \n",
       "748                    Le mystère de Noël             71  False  71.950000   \n",
       "\n",
       "                                                genres original_language  \\\n",
       "150                                                 []           unknown   \n",
       "347                                                 []           unknown   \n",
       "436  [{'id': 99, 'name': 'Documentaire'}, {'id': 80...                en   \n",
       "256  [{'id': 10770, 'name': 'Téléfilm'}, {'id': 53,...                en   \n",
       "748                                                 []                fr   \n",
       "\n",
       "     popularity release_date  revenue    tmdb_id  vote_average  \\\n",
       "150      0.0000   1900-01-01      0.0        NaN           0.0   \n",
       "347      0.0000   1900-01-01      0.0        NaN           0.0   \n",
       "436      0.1546   1900-01-01      0.0  1013147.0           0.0   \n",
       "256      0.1850   2021-07-11      0.0   849937.0           4.4   \n",
       "748      0.0000   1900-01-01      0.0   477678.0           0.0   \n",
       "\n",
       "     missing_release_date  missing_tmdb  is_movie  \n",
       "150                  True          True      True  \n",
       "347                  True          True      True  \n",
       "436                  True         False      True  \n",
       "256                  True         False      True  \n",
       "748                  True         False      True  "
      ]
     },
     "execution_count": 6,
     "metadata": {},
     "output_type": "execute_result"
    }
   ],
   "source": [
    "env.state = env.reset(context)\n",
    "\n",
    "# 2) Compute Q‐values and mask memory\n",
    "q_vals = q_model.predict(env.state)            # shape (n_films,)\n",
    "if env.memory:\n",
    "    q_vals[env.memory] = -np.inf\n",
    "\n",
    "# top‐K by Q‐value\n",
    "idx = np.argpartition(q_vals, -env.K)[-env.K:] # get indices from top-K but not sorted, more efficient\n",
    "slate = idx[np.argsort(-q_vals[idx])] # sort the top-K indices by Q-value\n",
    "slate_names = [catalog_df.iloc[i]['title'] for i in slate]\n",
    "catalog_df.iloc[slate]"
   ]
  },
  {
   "cell_type": "code",
   "execution_count": null,
   "id": "244d3f87",
   "metadata": {},
   "outputs": [],
   "source": []
  }
 ],
 "metadata": {
  "kernelspec": {
   "display_name": ".venv",
   "language": "python",
   "name": "python3"
  },
  "language_info": {
   "codemirror_mode": {
    "name": "ipython",
    "version": 3
   },
   "file_extension": ".py",
   "mimetype": "text/x-python",
   "name": "python",
   "nbconvert_exporter": "python",
   "pygments_lexer": "ipython3",
   "version": "3.9.6"
  }
 },
 "nbformat": 4,
 "nbformat_minor": 5
}

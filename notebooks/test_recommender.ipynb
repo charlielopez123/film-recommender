{
 "cells": [
  {
   "cell_type": "code",
   "execution_count": 19,
   "id": "015e6565",
   "metadata": {},
   "outputs": [
    {
     "name": "stdout",
     "output_type": "stream",
     "text": [
      "The autoreload extension is already loaded. To reload it, use:\n",
      "  %reload_ext autoreload\n"
     ]
    }
   ],
   "source": [
    "%load_ext autoreload\n",
    "%autoreload 2"
   ]
  },
  {
   "cell_type": "markdown",
   "id": "77483efd",
   "metadata": {
    "vscode": {
     "languageId": "plaintext"
    }
   },
   "source": [
    "## Imports"
   ]
  },
  {
   "cell_type": "code",
   "execution_count": 20,
   "id": "e030b50b",
   "metadata": {},
   "outputs": [],
   "source": [
    "import pandas as pd\n",
    "import numpy as np\n",
    "import pickle\n",
    "import joblib\n",
    "from envs.film_env import FilmRecEnv\n",
    "import random \n",
    "\n"
   ]
  },
  {
   "cell_type": "markdown",
   "id": "78fee443",
   "metadata": {},
   "source": [
    "## Loading"
   ]
  },
  {
   "cell_type": "code",
   "execution_count": 21,
   "id": "81f37928",
   "metadata": {},
   "outputs": [],
   "source": [
    "catalog_df = pd.read_pickle(\"data/catalog_df.pkl\")            # load your DataFrame\n",
    "with open(\"data/audience_models/rf_model.pkl\", \"rb\") as f:    # load your frozen viewership model\n",
    "    audience_model = pickle.load(f)\n",
    "q_model = joblib.load(\"models/q_model.joblib\")"
   ]
  },
  {
   "cell_type": "code",
   "execution_count": null,
   "id": "89bbe70c",
   "metadata": {},
   "outputs": [],
   "source": [
    "env = FilmRecEnv(\n",
    "    catalog_df     = catalog_df,\n",
    "    audience_model = audience_model,\n",
    "    memory_size    = 5,\n",
    "    rec_list_size  = 5,\n",
    ")"
   ]
  },
  {
   "cell_type": "markdown",
   "id": "131426ae",
   "metadata": {},
   "source": [
    "## Context and Recommendation"
   ]
  },
  {
   "cell_type": "code",
   "execution_count": 35,
   "id": "833d0974",
   "metadata": {},
   "outputs": [],
   "source": [
    "context = {\n",
    "        \"day\": 'wed',\n",
    "        \"time\":   'night',\n",
    "        \"season\": 'Spring'\n",
    "    }"
   ]
  },
  {
   "cell_type": "code",
   "execution_count": 36,
   "id": "e43cbb86",
   "metadata": {},
   "outputs": [
    {
     "data": {
      "application/vnd.microsoft.datawrangler.viewer.v0+json": {
       "columns": [
        {
         "name": "index",
         "rawType": "int64",
         "type": "integer"
        },
        {
         "name": "title",
         "rawType": "object",
         "type": "string"
        },
        {
         "name": "adult",
         "rawType": "object",
         "type": "unknown"
        },
        {
         "name": "duration",
         "rawType": "float64",
         "type": "float"
        },
        {
         "name": "genres",
         "rawType": "object",
         "type": "unknown"
        },
        {
         "name": "original_language",
         "rawType": "object",
         "type": "string"
        },
        {
         "name": "popularity",
         "rawType": "float64",
         "type": "float"
        },
        {
         "name": "release_date",
         "rawType": "object",
         "type": "string"
        },
        {
         "name": "revenue",
         "rawType": "float64",
         "type": "float"
        },
        {
         "name": "tmdb_id",
         "rawType": "float64",
         "type": "float"
        },
        {
         "name": "vote_average",
         "rawType": "float64",
         "type": "float"
        },
        {
         "name": "missing_release_date",
         "rawType": "bool",
         "type": "boolean"
        },
        {
         "name": "missing_tmdb",
         "rawType": "bool",
         "type": "boolean"
        },
        {
         "name": "is_movie",
         "rawType": "bool",
         "type": "boolean"
        }
       ],
       "ref": "5b476c1b-b9a0-4185-ac14-11fe039a71a9",
       "rows": [
        [
         "150",
         "Le crime lui va si bien",
         "False",
         "94.08333333333331",
         "[]",
         "unknown",
         "0.0",
         "1900-01-01",
         "0.0",
         null,
         "0.0",
         "True",
         "True",
         "True"
        ],
        [
         "347",
         "Quatre mariages et un coup de foudre",
         "False",
         "87.93333333333334",
         "[]",
         "unknown",
         "0.0",
         "1900-01-01",
         "0.0",
         null,
         "0.0",
         "True",
         "True",
         "True"
        ],
        [
         "436",
         "Body Cam",
         "False",
         "89.33333333333333",
         "[{'id': 99, 'name': 'Documentaire'}, {'id': 80, 'name': 'Crime'}]",
         "en",
         "0.1546",
         "1900-01-01",
         "0.0",
         "1013147.0",
         "0.0",
         "True",
         "False",
         "True"
        ]
       ],
       "shape": {
        "columns": 13,
        "rows": 3
       }
      },
      "text/html": [
       "<div>\n",
       "<style scoped>\n",
       "    .dataframe tbody tr th:only-of-type {\n",
       "        vertical-align: middle;\n",
       "    }\n",
       "\n",
       "    .dataframe tbody tr th {\n",
       "        vertical-align: top;\n",
       "    }\n",
       "\n",
       "    .dataframe thead th {\n",
       "        text-align: right;\n",
       "    }\n",
       "</style>\n",
       "<table border=\"1\" class=\"dataframe\">\n",
       "  <thead>\n",
       "    <tr style=\"text-align: right;\">\n",
       "      <th></th>\n",
       "      <th>title</th>\n",
       "      <th>adult</th>\n",
       "      <th>duration</th>\n",
       "      <th>genres</th>\n",
       "      <th>original_language</th>\n",
       "      <th>popularity</th>\n",
       "      <th>release_date</th>\n",
       "      <th>revenue</th>\n",
       "      <th>tmdb_id</th>\n",
       "      <th>vote_average</th>\n",
       "      <th>missing_release_date</th>\n",
       "      <th>missing_tmdb</th>\n",
       "      <th>is_movie</th>\n",
       "    </tr>\n",
       "  </thead>\n",
       "  <tbody>\n",
       "    <tr>\n",
       "      <th>150</th>\n",
       "      <td>Le crime lui va si bien</td>\n",
       "      <td>False</td>\n",
       "      <td>94.083333</td>\n",
       "      <td>[]</td>\n",
       "      <td>unknown</td>\n",
       "      <td>0.0000</td>\n",
       "      <td>1900-01-01</td>\n",
       "      <td>0.0</td>\n",
       "      <td>NaN</td>\n",
       "      <td>0.0</td>\n",
       "      <td>True</td>\n",
       "      <td>True</td>\n",
       "      <td>True</td>\n",
       "    </tr>\n",
       "    <tr>\n",
       "      <th>347</th>\n",
       "      <td>Quatre mariages et un coup de foudre</td>\n",
       "      <td>False</td>\n",
       "      <td>87.933333</td>\n",
       "      <td>[]</td>\n",
       "      <td>unknown</td>\n",
       "      <td>0.0000</td>\n",
       "      <td>1900-01-01</td>\n",
       "      <td>0.0</td>\n",
       "      <td>NaN</td>\n",
       "      <td>0.0</td>\n",
       "      <td>True</td>\n",
       "      <td>True</td>\n",
       "      <td>True</td>\n",
       "    </tr>\n",
       "    <tr>\n",
       "      <th>436</th>\n",
       "      <td>Body Cam</td>\n",
       "      <td>False</td>\n",
       "      <td>89.333333</td>\n",
       "      <td>[{'id': 99, 'name': 'Documentaire'}, {'id': 80...</td>\n",
       "      <td>en</td>\n",
       "      <td>0.1546</td>\n",
       "      <td>1900-01-01</td>\n",
       "      <td>0.0</td>\n",
       "      <td>1013147.0</td>\n",
       "      <td>0.0</td>\n",
       "      <td>True</td>\n",
       "      <td>False</td>\n",
       "      <td>True</td>\n",
       "    </tr>\n",
       "  </tbody>\n",
       "</table>\n",
       "</div>"
      ],
      "text/plain": [
       "                                    title  adult   duration  \\\n",
       "150               Le crime lui va si bien  False  94.083333   \n",
       "347  Quatre mariages et un coup de foudre  False  87.933333   \n",
       "436                              Body Cam  False  89.333333   \n",
       "\n",
       "                                                genres original_language  \\\n",
       "150                                                 []           unknown   \n",
       "347                                                 []           unknown   \n",
       "436  [{'id': 99, 'name': 'Documentaire'}, {'id': 80...                en   \n",
       "\n",
       "     popularity release_date  revenue    tmdb_id  vote_average  \\\n",
       "150      0.0000   1900-01-01      0.0        NaN           0.0   \n",
       "347      0.0000   1900-01-01      0.0        NaN           0.0   \n",
       "436      0.1546   1900-01-01      0.0  1013147.0           0.0   \n",
       "\n",
       "     missing_release_date  missing_tmdb  is_movie  \n",
       "150                  True          True      True  \n",
       "347                  True          True      True  \n",
       "436                  True         False      True  "
      ]
     },
     "execution_count": 36,
     "metadata": {},
     "output_type": "execute_result"
    }
   ],
   "source": [
    "env.state = env.reset(context)\n",
    "\n",
    "# 2) Compute Q‐values and mask memory\n",
    "q_vals = q_model.predict(env.state)            # shape (n_films,)\n",
    "if env.memory:\n",
    "    q_vals[env.memory] = -np.inf\n",
    "\n",
    "# top‐K by Q‐value\n",
    "idx = np.argpartition(q_vals, -env.K)[-env.K:] # get indices from top-K but not sorted, more efficient\n",
    "slate = idx[np.argsort(-q_vals[idx])] # sort the top-K indices by Q-value\n",
    "slate_names = [catalog_df.iloc[i]['title'] for i in slate]\n",
    "catalog_df.iloc[slate]"
   ]
  },
  {
   "cell_type": "code",
   "execution_count": null,
   "id": "244d3f87",
   "metadata": {},
   "outputs": [],
   "source": []
  }
 ],
 "metadata": {
  "kernelspec": {
   "display_name": ".venv",
   "language": "python",
   "name": "python3"
  },
  "language_info": {
   "codemirror_mode": {
    "name": "ipython",
    "version": 3
   },
   "file_extension": ".py",
   "mimetype": "text/x-python",
   "name": "python",
   "nbconvert_exporter": "python",
   "pygments_lexer": "ipython3",
   "version": "3.9.6"
  }
 },
 "nbformat": 4,
 "nbformat_minor": 5
}

{
 "cells": [
  {
   "cell_type": "code",
   "execution_count": 6,
   "id": "65bce0d4",
   "metadata": {},
   "outputs": [
    {
     "name": "stdout",
     "output_type": "stream",
     "text": [
      "The autoreload extension is already loaded. To reload it, use:\n",
      "  %reload_ext autoreload\n"
     ]
    }
   ],
   "source": [
    "%load_ext autoreload\n",
    "%autoreload 2"
   ]
  },
  {
   "cell_type": "markdown",
   "id": "984b7ac8",
   "metadata": {},
   "source": [
    "## Imports"
   ]
  },
  {
   "cell_type": "code",
   "execution_count": 7,
   "id": "11378547",
   "metadata": {},
   "outputs": [],
   "source": [
    "from envs.env import *\n",
    "from pathlib import Path\n",
    "import pandas as pd\n",
    "from config import settings\n",
    "from model_architectures.curator import CuratorNetwork\n",
    "import pickle\n",
    "from contextual_ts_testing import *\n",
    "from IPython.display import clear_output\n",
    "from tqdm.notebook import tqdm\n",
    "from constants import *"
   ]
  },
  {
   "cell_type": "code",
   "execution_count": 8,
   "id": "7bbbddfc",
   "metadata": {},
   "outputs": [],
   "source": [
    "context_dim = 16\n",
    "movie_dim = 24"
   ]
  },
  {
   "cell_type": "markdown",
   "id": "e51871f0",
   "metadata": {},
   "source": [
    "## Prepare Environment"
   ]
  },
  {
   "cell_type": "code",
   "execution_count": 9,
   "id": "13c94700",
   "metadata": {},
   "outputs": [],
   "source": [
    "catalog_df = pd.read_parquet(\"data/whatson_catalog_df.parquet\")\n",
    "historical_data_df = pd.read_pickle(\"data/historical_data_df.pkl\")\n",
    "with open(settings.aud_model_dir/\"rf_model.pkl\", \"rb\") as f:    # load frozen viewership model\n",
    "    audience_model = pickle.load(f)"
   ]
  },
  {
   "cell_type": "code",
   "execution_count": 10,
   "id": "a887178c",
   "metadata": {},
   "outputs": [
    {
     "name": "stdout",
     "output_type": "stream",
     "text": [
      "Setting up CompetitorDataManager...\n",
      "Setting up Scalers...\n",
      "Setting up RewardCalculator...\n",
      "Setting up ContextualThompsonSampler...\n",
      "Setting up CuratorNetwork...\n"
     ]
    }
   ],
   "source": [
    "env = TVProgrammingEnvironment(movie_catalog=catalog_df,\n",
    "                         historical_df= historical_data_df,\n",
    "                         audience_model=audience_model)"
   ]
  },
  {
   "cell_type": "code",
   "execution_count": 12,
   "id": "070233f6",
   "metadata": {},
   "outputs": [
    {
     "name": "stdout",
     "output_type": "stream",
     "text": [
      "Getting candidate features...\n"
     ]
    },
    {
     "data": {
      "application/vnd.jupyter.widget-view+json": {
       "model_id": "0bfa8eb555414635a2b7e1da5b21489a",
       "version_major": 2,
       "version_minor": 0
      },
      "text/plain": [
       "Movies:   0%|          | 0/1173 [00:00<?, ?it/s]"
      ]
     },
     "metadata": {},
     "output_type": "display_data"
    },
    {
     "name": "stdout",
     "output_type": "stream",
     "text": [
      "Done\n",
      "754430: score = 0.652\n",
      "31768: score = 0.607\n",
      "291984: score = 0.597\n",
      "373960: score = 0.593\n",
      "1452795: score = 0.592\n"
     ]
    }
   ],
   "source": [
    "date = '2025-08-06'\n",
    "hour = 21\n",
    "\n",
    "context_f, context, air_date = env.get_context_features_from_date_hour(date, hour)\n",
    "env.get_available_movies(air_date, context)\n",
    "recommended, top5_idx, top5_scores, w_tilde, movies, X_cands  = env.recommend_n_films(context, air_date)\n"
   ]
  },
  {
   "cell_type": "code",
   "execution_count": 33,
   "id": "8b92e123",
   "metadata": {},
   "outputs": [
    {
     "data": {
      "text/plain": [
       "array([0.1859922 , 0.19321271, 0.        , 0.03781076, 0.10328538,\n",
       "       0.13215901])"
      ]
     },
     "execution_count": 33,
     "metadata": {},
     "output_type": "execute_result"
    }
   ],
   "source": [
    "X_cands[top5_idx[0]] * w_tilde"
   ]
  },
  {
   "cell_type": "code",
   "execution_count": 31,
   "id": "9ec096ca",
   "metadata": {},
   "outputs": [
    {
     "data": {
      "text/plain": [
       "array([0.23990217, 0.20741236, 0.15677674, 0.12603587, 0.13771383,\n",
       "       0.13215901])"
      ]
     },
     "execution_count": 31,
     "metadata": {},
     "output_type": "execute_result"
    }
   ],
   "source": [
    "w_tilde"
   ]
  },
  {
   "cell_type": "code",
   "execution_count": 51,
   "id": "45dc3141",
   "metadata": {},
   "outputs": [
    {
     "data": {
      "text/plain": [
       "'1998-06-01'"
      ]
     },
     "execution_count": 51,
     "metadata": {},
     "output_type": "execute_result"
    }
   ],
   "source": [
    "from datetime import datetime\n",
    "type(env.movie_catalog.iloc[0]['start_rights'])\n",
    "(env.movie_catalog.iloc[0]['start_rights']).to_pydatetime().strftime('%Y-%m-%d')"
   ]
  },
  {
   "cell_type": "markdown",
   "id": "c8debe34",
   "metadata": {},
   "source": [
    "## Recommendation loop"
   ]
  },
  {
   "cell_type": "code",
   "execution_count": null,
   "id": "94eadb26",
   "metadata": {},
   "outputs": [],
   "source": [
    "dates = create_date_list(10)"
   ]
  },
  {
   "cell_type": "code",
   "execution_count": null,
   "id": "623f8649",
   "metadata": {},
   "outputs": [],
   "source": [
    "chosen_signals = input(prompt=f'If any factors were paricularly helpful in choosing the movie, please write the reward factor name \\nChoose from {y_signal_feature_selection}')"
   ]
  },
  {
   "cell_type": "code",
   "execution_count": null,
   "id": "9c6010cc",
   "metadata": {},
   "outputs": [],
   "source": [
    "status = 'go'\n",
    "for date in tqdm(dates, desc=\"Dates\"):\n",
    "    if status == 'exit':\n",
    "            break\n",
    "    for hour in hours:\n",
    "        if status == 'exit':\n",
    "                break\n",
    "        clear_output(wait=True)\n",
    "        context_f, context, air_date = env.get_context_features_from_date_hour(date, hour)\n",
    "        weekday = air_date.strftime(\"%A\")\n",
    "        day = air_date.strftime('%d')\n",
    "        month = air_date.strftime('%B')\n",
    "        year = air_date.strftime('%Y')\n",
    "\n",
    "        print(f'Context: {hour, weekday, day, month, year}')\n",
    "        env.get_available_movies(air_date, context)\n",
    "        recommended, top5_idx, top5_scores, w_tilde, movies, X_cands  = env.recommend_n_films(context, air_date)\n",
    "        env.show_top_breakdown(top5_idx, top5_scores, w_tilde, movies, X_cands)\n",
    "\n",
    "        chosen_movie = '-1'\n",
    "        while chosen_movie == '-1':\n",
    "            chosen_movie = input(prompt='Choose a movie catalog id, if none are to your liking write -1 ')\n",
    "            if chosen_movie != '-1':\n",
    "                chosen_idx = movies.index(chosen_movie)\n",
    "                chosen_signals = input(prompt=f'If any factors were paricularly helpful in choosing the movie, please write the reward factor name \\nChoose from {y_signal_feature_selection}')\n",
    "                y_signals = env.encode_chosen_signals(chosen_signals)\n",
    "                print(y_signals)\n",
    "            else:\n",
    "                chosen_idx = -1\n",
    "            \n",
    "            for idx in top5_idx:\n",
    "                x_i = X_cands[idx]                   # feature vector for this shown movie\n",
    "\n",
    "                if idx == chosen_idx:\n",
    "                    r = 1                            # curator chose it\n",
    "                else:\n",
    "                    r = 0                            # curator did *not* choose it\n",
    "\n",
    "                env.cts.update(context_f, x_i, r)                   # Bayesian update: A ← A + x xᵀ; b ← b + r·x\n",
    "                param_std = np.sqrt(env.cts.expl_scale / env.cts.h_U)      # same shape as U\n",
    "                print(\"Mean param std:\", param_std.mean())\n",
    "                print(f'h_U: {env.cts.h_U.mean()}, h_b: {env.cts.h_b.mean()}')\n",
    "            fig, axes, samples = marginal_weight_distribution_cts(env.cts, env, num_samples=1000, show=False, bins=100)\n",
    "            plt.show()\n",
    "            print('Type go when done analyzing')\n",
    "            status = input(prompt = 'Type go when done analyzing, type exit to break loop')\n",
    "            if status == 'exit':\n",
    "                break\n",
    "            if chosen_movie == '-1':\n",
    "                available_movies = [movie for  movie in env.available_movies if movie not in recommended]\n",
    "                env.available_movies = available_movies\n",
    "                print(len(env.available_movies))\n",
    "                clear_output(wait=True)\n",
    "                recommended, top5_idx, top5_scores, w_tilde, movies, X_cands  = env.recommend_n_films(context, air_date)\n",
    "                print(f'Context: {hour, weekday, day, month, year}')\n",
    "                env.show_top_breakdown(top5_idx, top5_scores, w_tilde, movies, X_cands)\n",
    "\n",
    "        chosen_movie = '-1'"
   ]
  },
  {
   "cell_type": "markdown",
   "id": "15445b08",
   "metadata": {},
   "source": [
    "## Save model"
   ]
  },
  {
   "cell_type": "code",
   "execution_count": null,
   "id": "78df136e",
   "metadata": {},
   "outputs": [],
   "source": [
    "env.cts.save(Path(\"models/ts_state_tick_match.npz\"))"
   ]
  },
  {
   "cell_type": "code",
   "execution_count": null,
   "id": "0e67bb56",
   "metadata": {},
   "outputs": [],
   "source": []
  }
 ],
 "metadata": {
  "kernelspec": {
   "display_name": ".venv",
   "language": "python",
   "name": "python3"
  },
  "language_info": {
   "codemirror_mode": {
    "name": "ipython",
    "version": 3
   },
   "file_extension": ".py",
   "mimetype": "text/x-python",
   "name": "python",
   "nbconvert_exporter": "python",
   "pygments_lexer": "ipython3",
   "version": "3.9.6"
  }
 },
 "nbformat": 4,
 "nbformat_minor": 5
}

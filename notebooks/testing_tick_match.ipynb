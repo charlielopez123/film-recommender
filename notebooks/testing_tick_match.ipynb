{
 "cells": [
  {
   "cell_type": "code",
   "execution_count": 1,
   "id": "65bce0d4",
   "metadata": {},
   "outputs": [],
   "source": [
    "%load_ext autoreload\n",
    "%autoreload 2"
   ]
  },
  {
   "cell_type": "markdown",
   "id": "984b7ac8",
   "metadata": {},
   "source": [
    "## Imports"
   ]
  },
  {
   "cell_type": "code",
   "execution_count": 2,
   "id": "11378547",
   "metadata": {},
   "outputs": [],
   "source": [
    "from envs.env import *\n",
    "from pathlib import Path\n",
    "import pandas as pd\n",
    "from config import settings\n",
    "from model_architectures.curator import CuratorNetwork\n",
    "import pickle\n",
    "from contextual_ts_testing import *\n",
    "from IPython.display import clear_output\n",
    "from tqdm.notebook import tqdm\n",
    "from constants import *"
   ]
  },
  {
   "cell_type": "code",
   "execution_count": 3,
   "id": "7bbbddfc",
   "metadata": {},
   "outputs": [],
   "source": [
    "context_dim = 16\n",
    "movie_dim = 24"
   ]
  },
  {
   "cell_type": "markdown",
   "id": "e51871f0",
   "metadata": {},
   "source": [
    "## Prepare Environment"
   ]
  },
  {
   "cell_type": "code",
   "execution_count": 4,
   "id": "13c94700",
   "metadata": {},
   "outputs": [],
   "source": [
    "catalog_df = pd.read_parquet(\"data/whatson_catalog_df.parquet\")\n",
    "historical_data_df = pd.read_pickle(\"data/historical_data_df.pkl\")\n",
    "with open(settings.aud_model_dir/\"rf_model.pkl\", \"rb\") as f:    # load frozen viewership model\n",
    "    audience_model = pickle.load(f)"
   ]
  },
  {
   "cell_type": "code",
   "execution_count": 5,
   "id": "a887178c",
   "metadata": {},
   "outputs": [
    {
     "name": "stdout",
     "output_type": "stream",
     "text": [
      "Setting up CompetitorDataManager...\n",
      "Setting up Scalers...\n",
      "Setting up RewardCalculator...\n",
      "Setting up ContextualThompsonSampler...\n",
      "Setting up CuratorNetwork...\n"
     ]
    }
   ],
   "source": [
    "env = TVProgrammingEnvironment(movie_catalog=catalog_df,\n",
    "                         historical_df= historical_data_df,\n",
    "                         audience_model=audience_model)"
   ]
  },
  {
   "cell_type": "code",
   "execution_count": 6,
   "id": "070233f6",
   "metadata": {},
   "outputs": [
    {
     "name": "stdout",
     "output_type": "stream",
     "text": [
      "Getting candidate features...\n"
     ]
    },
    {
     "data": {
      "application/vnd.jupyter.widget-view+json": {
       "model_id": "bf17e9184a5048a081983e6a653324c3",
       "version_major": 2,
       "version_minor": 0
      },
      "text/plain": [
       "Movies:   0%|          | 0/1173 [00:00<?, ?it/s]"
      ]
     },
     "metadata": {},
     "output_type": "display_data"
    },
    {
     "name": "stdout",
     "output_type": "stream",
     "text": [
      "Done\n",
      "31768: score = 0.619\n",
      "754430: score = 0.607\n",
      "342281: score = 0.606\n",
      "291984: score = 0.598\n",
      "21435: score = 0.594\n"
     ]
    }
   ],
   "source": [
    "date = '2025-08-06'\n",
    "hour = 21\n",
    "\n",
    "context_f, context, air_date = env.get_context_features_from_date_hour(date, hour)\n",
    "env.get_available_movies(air_date, context)\n",
    "recommended, top5_idx, top5_scores, w_tilde, movies, X_cands  = env.recommend_n_films(context, air_date)\n"
   ]
  },
  {
   "cell_type": "markdown",
   "id": "c8debe34",
   "metadata": {},
   "source": [
    "## Recommendation loop"
   ]
  },
  {
   "cell_type": "code",
   "execution_count": 10,
   "id": "94eadb26",
   "metadata": {},
   "outputs": [],
   "source": [
    "dates = create_date_list(10)"
   ]
  },
  {
   "cell_type": "code",
   "execution_count": null,
   "id": "623f8649",
   "metadata": {},
   "outputs": [],
   "source": [
    "#chosen_signals = input(prompt=f'If any factors were paricularly helpful in choosing the movie, please write the reward factor name \\nChoose from {y_signal_feature_selection}')"
   ]
  },
  {
   "cell_type": "code",
   "execution_count": 12,
   "id": "9c6010cc",
   "metadata": {},
   "outputs": [
    {
     "name": "stdout",
     "output_type": "stream",
     "text": [
      "Context: (13, 'Thursday', '07', 'August', '2025')\n",
      "Getting candidate features...\n"
     ]
    },
    {
     "data": {
      "application/vnd.jupyter.widget-view+json": {
       "model_id": "2d9d91d4bbd94853b3d923144527298b",
       "version_major": 2,
       "version_minor": 0
      },
      "text/plain": [
       "Movies:   0%|          | 0/1174 [00:00<?, ?it/s]"
      ]
     },
     "metadata": {},
     "output_type": "display_data"
    },
    {
     "name": "stdout",
     "output_type": "stream",
     "text": [
      "Done\n",
      "44446: score = 0.596\n",
      "24807: score = 0.582\n",
      "27325: score = 0.577\n",
      "105406: score = 0.569\n",
      "3083: score = 0.557\n",
      "\n",
      "🎬 44446: Angélique et le sultan  (total score = 0.596) (p = 0.644770968039597)\n",
      "\n",
      " Actors: Michele Mercier, Jean-Claude Pascal, Robert Hossein, Roger Pigaud, Ali Ben Ayed\n",
      "  Breakdown:\n",
      "    • curator_select_prob             0.805 ×  0.254 =   0.205 (+)\n",
      "    • reward_audience                 0.716 ×  0.187 =   0.134 (+)\n",
      "    • reward_novelty                  0.750 ×  0.152 =   0.114 (+)\n",
      "    • reward_rights                   0.800 ×  0.137 =   0.109 (+)\n",
      "    • reward_diversity                0.300 ×  0.115 =   0.034 (+)\n",
      "\n",
      "🎬 24807: L'extravagant M. Deeds  (total score = 0.582) (p = 0.6415133023467826)\n",
      "\n",
      " Actors: Gary Cooper, Jean Arthur, George Bancroft, Lionel Stander, Douglas Dumbrille, Mayo Methot, Raymond Walburn\n",
      "  Breakdown:\n",
      "    • curator_select_prob             0.848 ×  0.254 =   0.216 (+)\n",
      "    • reward_audience                 0.728 ×  0.187 =   0.136 (+)\n",
      "    • reward_novelty                  0.750 ×  0.152 =   0.114 (+)\n",
      "    • reward_rights                   0.600 ×  0.137 =   0.082 (+)\n",
      "    • reward_diversity                0.300 ×  0.115 =   0.034 (+)\n",
      "\n",
      "🎬 27325: Allez France  (total score = 0.577) (p = 0.6402888514758045)\n",
      "\n",
      " Actors: Robert Dhery, Colette Brosset, Diana Dors, Jean Lefebvre, Catherine Sola, Jean Carmet, Raymond Bussieres\n",
      "  Breakdown:\n",
      "    • curator_select_prob             0.838 ×  0.254 =   0.213 (+)\n",
      "    • reward_audience                 0.714 ×  0.187 =   0.133 (+)\n",
      "    • reward_novelty                  0.750 ×  0.152 =   0.114 (+)\n",
      "    • reward_rights                   0.600 ×  0.137 =   0.082 (+)\n",
      "    • reward_diversity                0.300 ×  0.115 =   0.034 (+)\n",
      "\n",
      "🎬 105406: Qui était donc cette dame ?  (total score = 0.569) (p = 0.638590913325772)\n",
      "\n",
      " Actors: Dean Martin, Tony Curtis, Janet Leigh, James Whitmore\n",
      "  Breakdown:\n",
      "    • curator_select_prob             0.823 ×  0.254 =   0.209 (+)\n",
      "    • reward_audience                 0.694 ×  0.187 =   0.130 (+)\n",
      "    • reward_novelty                  0.750 ×  0.152 =   0.114 (+)\n",
      "    • reward_rights                   0.600 ×  0.137 =   0.082 (+)\n",
      "    • reward_diversity                0.300 ×  0.115 =   0.034 (+)\n",
      "\n",
      "🎬 3083: Monsieur Smith au Sénat  (total score = 0.557) (p = 0.6357583256046793)\n",
      "\n",
      " Actors: James Stewart, Jean Arthur, Claude Rains, Edward Arnold, Guy Kibbee\n",
      "  Breakdown:\n",
      "    • curator_select_prob             0.742 ×  0.254 =   0.189 (+)\n",
      "    • reward_audience                 0.739 ×  0.187 =   0.138 (+)\n",
      "    • reward_novelty                  0.750 ×  0.152 =   0.114 (+)\n",
      "    • reward_rights                   0.600 ×  0.137 =   0.082 (+)\n",
      "    • reward_diversity                0.300 ×  0.115 =   0.034 (+)\n"
     ]
    },
    {
     "ename": "ValueError",
     "evalue": "'' is not in list",
     "output_type": "error",
     "traceback": [
      "\u001b[0;31m---------------------------------------------------------------------------\u001b[0m",
      "\u001b[0;31mValueError\u001b[0m                                Traceback (most recent call last)",
      "Cell \u001b[0;32mIn[12], line 24\u001b[0m\n\u001b[1;32m     22\u001b[0m chosen_movie \u001b[38;5;241m=\u001b[39m \u001b[38;5;28minput\u001b[39m(prompt\u001b[38;5;241m=\u001b[39m\u001b[38;5;124m'\u001b[39m\u001b[38;5;124mChoose a movie catalog id, if none are to your liking write -1 \u001b[39m\u001b[38;5;124m'\u001b[39m)\n\u001b[1;32m     23\u001b[0m \u001b[38;5;28;01mif\u001b[39;00m chosen_movie \u001b[38;5;241m!=\u001b[39m \u001b[38;5;124m'\u001b[39m\u001b[38;5;124m-1\u001b[39m\u001b[38;5;124m'\u001b[39m:\n\u001b[0;32m---> 24\u001b[0m     chosen_idx \u001b[38;5;241m=\u001b[39m \u001b[43mmovies\u001b[49m\u001b[38;5;241;43m.\u001b[39;49m\u001b[43mindex\u001b[49m\u001b[43m(\u001b[49m\u001b[43mchosen_movie\u001b[49m\u001b[43m)\u001b[49m\n\u001b[1;32m     25\u001b[0m     chosen_signals \u001b[38;5;241m=\u001b[39m \u001b[38;5;28minput\u001b[39m(prompt\u001b[38;5;241m=\u001b[39m\u001b[38;5;124mf\u001b[39m\u001b[38;5;124m'\u001b[39m\u001b[38;5;124mIf any factors were paricularly helpful in choosing the movie, please write the reward factor name \u001b[39m\u001b[38;5;130;01m\\n\u001b[39;00m\u001b[38;5;124mChoose from \u001b[39m\u001b[38;5;132;01m{\u001b[39;00my_signal_feature_selection\u001b[38;5;132;01m}\u001b[39;00m\u001b[38;5;124m'\u001b[39m)\n\u001b[1;32m     26\u001b[0m     \u001b[38;5;28;01mif\u001b[39;00m chosen_signals \u001b[38;5;241m!=\u001b[39m \u001b[38;5;124m'\u001b[39m\u001b[38;5;124m'\u001b[39m:\n",
      "\u001b[0;31mValueError\u001b[0m: '' is not in list"
     ]
    }
   ],
   "source": [
    "status = 'go'\n",
    "for date in tqdm(dates, desc=\"Dates\"):\n",
    "    if status == 'exit':\n",
    "            break\n",
    "    for hour in hours:\n",
    "        if status == 'exit':\n",
    "                break\n",
    "        clear_output(wait=True)\n",
    "        context_f, context, air_date = env.get_context_features_from_date_hour(date, hour)\n",
    "        weekday = air_date.strftime(\"%A\")\n",
    "        day = air_date.strftime('%d')\n",
    "        month = air_date.strftime('%B')\n",
    "        year = air_date.strftime('%Y')\n",
    "\n",
    "        print(f'Context: {hour, weekday, day, month, year}')\n",
    "        env.get_available_movies(air_date, context)\n",
    "        recommended, top5_idx, top5_scores, w_tilde, movies, X_cands  = env.recommend_n_films(context, air_date)\n",
    "        env.show_top_breakdown(top5_idx, top5_scores, w_tilde, movies, X_cands)\n",
    "\n",
    "        chosen_movie = '-1'\n",
    "        while chosen_movie == '-1':\n",
    "            chosen_movie = input(prompt='Choose a movie catalog id, if none are to your liking write -1 ')\n",
    "            if chosen_movie != '-1':\n",
    "                chosen_idx = movies.index(chosen_movie)\n",
    "                chosen_signals = input(prompt=f'If any factors were paricularly helpful in choosing the movie, please write the reward factor name \\nChoose from {y_signal_feature_selection}')\n",
    "                if chosen_signals != '':\n",
    "                    y_signals = env.encode_chosen_signals(chosen_signals)\n",
    "                else:\n",
    "                     y_signals = None\n",
    "                print(y_signals)\n",
    "            else:\n",
    "                chosen_idx = -1\n",
    "            \n",
    "            for idx in top5_idx:\n",
    "                x_i = X_cands[idx]                   # feature vector for this shown movie\n",
    "\n",
    "                if idx == chosen_idx:\n",
    "                    r = 1                            # curator chose it\n",
    "                else:\n",
    "                    r = 0                            # curator did *not* choose it\n",
    "\n",
    "                \n",
    "                env.cts.update(context_f, x_i, r, y_signals)                   # Bayesian update: A ← A + x xᵀ; b ← b + r·x\n",
    "                \n",
    "                param_std = np.sqrt(env.cts.expl_scale / env.cts.h_U)      # same shape as U\n",
    "                print(\"Mean param std:\", param_std.mean())\n",
    "                print(f'h_U: {env.cts.h_U.mean()}, h_b: {env.cts.h_b.mean()}')\n",
    "            fig, axes, samples = marginal_weight_distribution_cts(env.cts, env, num_samples=1000, show=False, bins=100)\n",
    "            plt.show()\n",
    "            print('Type go when done analyzing')\n",
    "            status = input(prompt = 'Type go when done analyzing, type exit to break loop')\n",
    "            if status == 'exit':\n",
    "                break\n",
    "            if chosen_movie == '-1':\n",
    "                available_movies = [movie for  movie in env.available_movies if movie not in recommended]\n",
    "                env.available_movies = available_movies\n",
    "                print(len(env.available_movies))\n",
    "                clear_output(wait=True)\n",
    "                recommended, top5_idx, top5_scores, w_tilde, movies, X_cands  = env.recommend_n_films(context, air_date)\n",
    "                print(f'Context: {hour, weekday, day, month, year}')\n",
    "                env.show_top_breakdown(top5_idx, top5_scores, w_tilde, movies, X_cands)\n",
    "\n",
    "        chosen_movie = '-1'"
   ]
  },
  {
   "cell_type": "markdown",
   "id": "15445b08",
   "metadata": {},
   "source": [
    "## Save model"
   ]
  },
  {
   "cell_type": "code",
   "execution_count": null,
   "id": "78df136e",
   "metadata": {},
   "outputs": [],
   "source": [
    "env.cts.save(Path(\"models/ts_state_tick_match.npz\"))"
   ]
  },
  {
   "cell_type": "code",
   "execution_count": null,
   "id": "0e67bb56",
   "metadata": {},
   "outputs": [],
   "source": []
  }
 ],
 "metadata": {
  "kernelspec": {
   "display_name": ".venv",
   "language": "python",
   "name": "python3"
  },
  "language_info": {
   "codemirror_mode": {
    "name": "ipython",
    "version": 3
   },
   "file_extension": ".py",
   "mimetype": "text/x-python",
   "name": "python",
   "nbconvert_exporter": "python",
   "pygments_lexer": "ipython3",
   "version": "3.9.6"
  }
 },
 "nbformat": 4,
 "nbformat_minor": 5
}
